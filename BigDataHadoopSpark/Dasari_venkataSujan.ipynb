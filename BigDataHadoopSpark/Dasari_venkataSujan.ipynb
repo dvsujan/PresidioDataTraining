{
 "cells": [
  {
   "cell_type": "code",
   "execution_count": 144,
   "id": "f1b5d6db-1d32-4a1f-aaa1-4e211928e2a1",
   "metadata": {},
   "outputs": [],
   "source": [
    "from pyspark.sql import SparkSession\n",
    "from pyspark.sql.functions import lower"
   ]
  },
  {
   "cell_type": "code",
   "execution_count": 145,
   "id": "ab7ac231-2e0b-48bc-84d9-02e3624ac386",
   "metadata": {},
   "outputs": [],
   "source": [
    "spark = SparkSession.builder.appName('CovidData').getOrCreate(); "
   ]
  },
  {
   "cell_type": "code",
   "execution_count": 146,
   "id": "d42034eb-7549-4cd7-9004-d50ca2f97ff5",
   "metadata": {},
   "outputs": [
    {
     "name": "stdout",
     "output_type": "stream",
     "text": [
      "root\n",
      " |-- Date: date (nullable = true)\n",
      " |-- Name of State / UT: string (nullable = true)\n",
      " |-- Latitude: double (nullable = true)\n",
      " |-- Longitude: double (nullable = true)\n",
      " |-- Total Confirmed cases: double (nullable = true)\n",
      " |-- Death: string (nullable = true)\n",
      " |-- Cured/Discharged/Migrated: double (nullable = true)\n",
      " |-- New cases: integer (nullable = true)\n",
      " |-- New deaths: integer (nullable = true)\n",
      " |-- New recovered: integer (nullable = true)\n",
      "\n"
     ]
    }
   ],
   "source": [
    "df = spark.read.csv('./complete.csv', sep=',',\n",
    "                         inferSchema=True, header=True); \n",
    "df.printSchema(); \n"
   ]
  },
  {
   "cell_type": "code",
   "execution_count": 147,
   "id": "4e9caf78",
   "metadata": {},
   "outputs": [
    {
     "name": "stdout",
     "output_type": "stream",
     "text": [
      "+----------+------------------+--------+---------+---------------------+-----+-------------------------+---------+----------+-------------+\n",
      "|      Date|Name of State / UT|Latitude|Longitude|Total Confirmed cases|Death|Cured/Discharged/Migrated|New cases|New deaths|New recovered|\n",
      "+----------+------------------+--------+---------+---------------------+-----+-------------------------+---------+----------+-------------+\n",
      "|2020-01-30|            kerala| 10.8505|  76.2711|                  1.0|    0|                      0.0|        0|         0|            0|\n",
      "|2020-01-31|            kerala| 10.8505|  76.2711|                  1.0|    0|                      0.0|        0|         0|            0|\n",
      "|2020-02-01|            kerala| 10.8505|  76.2711|                  2.0|    0|                      0.0|        1|         0|            0|\n",
      "|2020-02-02|            kerala| 10.8505|  76.2711|                  3.0|    0|                      0.0|        1|         0|            0|\n",
      "|2020-02-03|            kerala| 10.8505|  76.2711|                  3.0|    0|                      0.0|        0|         0|            0|\n",
      "|2020-02-04|            kerala| 10.8505|  76.2711|                  3.0|    0|                      0.0|        0|         0|            0|\n",
      "|2020-02-05|            kerala| 10.8505|  76.2711|                  3.0|    0|                      0.0|        0|         0|            0|\n",
      "|2020-02-06|            kerala| 10.8505|  76.2711|                  3.0|    0|                      0.0|        0|         0|            0|\n",
      "|2020-02-07|            kerala| 10.8505|  76.2711|                  3.0|    0|                      0.0|        0|         0|            0|\n",
      "|2020-02-08|            kerala| 10.8505|  76.2711|                  3.0|    0|                      0.0|        0|         0|            0|\n",
      "|2020-02-09|            kerala| 10.8505|  76.2711|                  3.0|    0|                      0.0|        0|         0|            0|\n",
      "|2020-02-10|            kerala| 10.8505|  76.2711|                  3.0|    0|                      0.0|        0|         0|            0|\n",
      "|2020-02-11|            kerala| 10.8505|  76.2711|                  3.0|    0|                      0.0|        0|         0|            0|\n",
      "|2020-02-12|            kerala| 10.8505|  76.2711|                  3.0|    0|                      0.0|        0|         0|            0|\n",
      "|2020-02-13|            kerala| 10.8505|  76.2711|                  3.0|    0|                      0.0|        0|         0|            0|\n",
      "|2020-02-14|            kerala| 10.8505|  76.2711|                  3.0|    0|                      0.0|        0|         0|            0|\n",
      "|2020-02-15|            kerala| 10.8505|  76.2711|                  3.0|    0|                      0.0|        0|         0|            0|\n",
      "|2020-02-16|            kerala| 10.8505|  76.2711|                  3.0|    0|                      0.0|        0|         0|            0|\n",
      "|2020-02-17|            kerala| 10.8505|  76.2711|                  3.0|    0|                      0.0|        0|         0|            0|\n",
      "|2020-02-18|            kerala| 10.8505|  76.2711|                  3.0|    0|                      0.0|        0|         0|            0|\n",
      "+----------+------------------+--------+---------+---------------------+-----+-------------------------+---------+----------+-------------+\n",
      "only showing top 20 rows\n",
      "\n"
     ]
    }
   ],
   "source": [
    "low_df = df.withColumn(\"Name of State / UT\", lower(df[\"Name of State / UT\"])); \n",
    "\n",
    "\n",
    "\n",
    "low_df.show(); "
   ]
  },
  {
   "cell_type": "code",
   "execution_count": 148,
   "id": "a2788239",
   "metadata": {},
   "outputs": [
    {
     "name": "stdout",
     "output_type": "stream",
     "text": [
      "+----------+------------------+--------+---------+---------------------+-----+-------------------------+---------+----------+-------------+\n",
      "|      Date|Name of State / UT|Latitude|Longitude|Total Confirmed cases|Death|Cured/Discharged/Migrated|New cases|New deaths|New recovered|\n",
      "+----------+------------------+--------+---------+---------------------+-----+-------------------------+---------+----------+-------------+\n",
      "|2020-08-06|       maharashtra| 19.7515|  75.7139|             468265.0|16476|                 305521.0|    10309|         0|         6165|\n",
      "+----------+------------------+--------+---------+---------------------+-----+-------------------------+---------+----------+-------------+\n",
      "\n"
     ]
    }
   ],
   "source": [
    "low_df.createOrReplaceTempView(\"covidData\"); \n",
    "gretest_df = spark.sql(\"select * from covidData order by `Total Confirmed cases` desc limit 1; \"); \n",
    "gretest_df.show();\n"
   ]
  },
  {
   "cell_type": "code",
   "execution_count": 149,
   "id": "7ec991b5",
   "metadata": {},
   "outputs": [
    {
     "name": "stdout",
     "output_type": "stream",
     "text": [
      "+-----------+\n",
      "|      state|\n",
      "+-----------+\n",
      "|maharashtra|\n",
      "+-----------+\n",
      "\n"
     ]
    }
   ],
   "source": [
    "second_greatest_df = spark.sql(\"\"\"select `Name of State / UT` as state from covidData where `Total Confirmed cases` = (\n",
    "    select max(`Total Confirmed cases`) from covidData where `Total Confirmed cases` < \n",
    "    (\n",
    "        select max(`Total Confirmed cases`) from covidData\n",
    "    )\n",
    ")\n",
    "\"\"\"); \n",
    "second_greatest_df.show(); "
   ]
  },
  {
   "cell_type": "code",
   "execution_count": 150,
   "id": "c532934d",
   "metadata": {},
   "outputs": [
    {
     "name": "stdout",
     "output_type": "stream",
     "text": [
      "+------------------+--------------------+\n",
      "|Name of State / UT|               ratio|\n",
      "+------------------+--------------------+\n",
      "|           tripura|5.213764337851929E-4|\n",
      "+------------------+--------------------+\n",
      "\n",
      "None\n"
     ]
    }
   ],
   "source": [
    "least_death_df = spark.sql(\"\"\"select `Name of State / UT`, death_int / `Total Confirmed cases` as ratio\n",
    "from (\n",
    "    select `Name of State / UT`, \n",
    "           cast(Death AS double) as death_int, \n",
    "           `Total Confirmed cases`\n",
    "    from covidData\n",
    "    where `Name of State / UT` not like '%union%'\n",
    ") as converted_data where death_int >0 and `Total Confirmed cases` >0\n",
    "order by ratio ASC\n",
    "limit 1 \n",
    "\"\"\"); \n",
    "\n",
    "print(least_death_df.show());"
   ]
  },
  {
   "cell_type": "code",
   "execution_count": 151,
   "id": "97cee901",
   "metadata": {},
   "outputs": [
    {
     "name": "stdout",
     "output_type": "stream",
     "text": [
      "+------+---------+\n",
      "| Month|Recovered|\n",
      "+------+---------+\n",
      "|2020/7|   722983|\n",
      "+------+---------+\n",
      "\n"
     ]
    }
   ],
   "source": [
    "month_newer_df = spark.sql(\"\"\"select concat(year(Date), '/', month(Date)) as Month, sum(`New recovered`) as Recovered from covidData\n",
    "group by year(Date), month(Date)\n",
    "order by Recovered DESC\n",
    "limit 1\"\"\"); \n",
    "month_newer_df.show(); "
   ]
  },
  {
   "cell_type": "code",
   "execution_count": 152,
   "id": "3ee80b1e",
   "metadata": {},
   "outputs": [
    {
     "name": "stdout",
     "output_type": "stream",
     "text": [
      "+----------+------------------+--------+---------+---------------------+-----+-------------------------+---------+----------+-------------+--------+\n",
      "|      Date|Name of State / UT|Latitude|Longitude|Total Confirmed cases|Death|Cured/Discharged/Migrated|New cases|New deaths|New recovered|   month|\n",
      "+----------+------------------+--------+---------+---------------------+-----+-------------------------+---------+----------+-------------+--------+\n",
      "|2020-01-30|            kerala| 10.8505|  76.2711|                  1.0|    0|                      0.0|        0|         0|            0| January|\n",
      "|2020-01-31|            kerala| 10.8505|  76.2711|                  1.0|    0|                      0.0|        0|         0|            0| January|\n",
      "|2020-02-01|            kerala| 10.8505|  76.2711|                  2.0|    0|                      0.0|        1|         0|            0|February|\n",
      "|2020-02-02|            kerala| 10.8505|  76.2711|                  3.0|    0|                      0.0|        1|         0|            0|February|\n",
      "|2020-02-03|            kerala| 10.8505|  76.2711|                  3.0|    0|                      0.0|        0|         0|            0|February|\n",
      "|2020-02-04|            kerala| 10.8505|  76.2711|                  3.0|    0|                      0.0|        0|         0|            0|February|\n",
      "|2020-02-05|            kerala| 10.8505|  76.2711|                  3.0|    0|                      0.0|        0|         0|            0|February|\n",
      "|2020-02-06|            kerala| 10.8505|  76.2711|                  3.0|    0|                      0.0|        0|         0|            0|February|\n",
      "|2020-02-07|            kerala| 10.8505|  76.2711|                  3.0|    0|                      0.0|        0|         0|            0|February|\n",
      "|2020-02-08|            kerala| 10.8505|  76.2711|                  3.0|    0|                      0.0|        0|         0|            0|February|\n",
      "|2020-02-09|            kerala| 10.8505|  76.2711|                  3.0|    0|                      0.0|        0|         0|            0|February|\n",
      "|2020-02-10|            kerala| 10.8505|  76.2711|                  3.0|    0|                      0.0|        0|         0|            0|February|\n",
      "|2020-02-11|            kerala| 10.8505|  76.2711|                  3.0|    0|                      0.0|        0|         0|            0|February|\n",
      "|2020-02-12|            kerala| 10.8505|  76.2711|                  3.0|    0|                      0.0|        0|         0|            0|February|\n",
      "|2020-02-13|            kerala| 10.8505|  76.2711|                  3.0|    0|                      0.0|        0|         0|            0|February|\n",
      "|2020-02-14|            kerala| 10.8505|  76.2711|                  3.0|    0|                      0.0|        0|         0|            0|February|\n",
      "|2020-02-15|            kerala| 10.8505|  76.2711|                  3.0|    0|                      0.0|        0|         0|            0|February|\n",
      "|2020-02-16|            kerala| 10.8505|  76.2711|                  3.0|    0|                      0.0|        0|         0|            0|February|\n",
      "|2020-02-17|            kerala| 10.8505|  76.2711|                  3.0|    0|                      0.0|        0|         0|            0|February|\n",
      "|2020-02-18|            kerala| 10.8505|  76.2711|                  3.0|    0|                      0.0|        0|         0|            0|February|\n",
      "+----------+------------------+--------+---------+---------------------+-----+-------------------------+---------+----------+-------------+--------+\n",
      "only showing top 20 rows\n",
      "\n"
     ]
    }
   ],
   "source": [
    "parse_date_df = spark.sql(\"\"\"\n",
    "select *, case \n",
    "           when month(Date) = 1 then 'January'\n",
    "           when month(Date) = 2 then 'February'\n",
    "           when month(Date) = 3 then 'March'\n",
    "           when month(Date) = 4 then 'April'\n",
    "           when month(Date) = 5 then 'May'\n",
    "           when month(Date) = 6 then 'June'\n",
    "           when month(Date) = 7 then 'July'\n",
    "           when month(Date) = 8 then 'August'\n",
    "           when month(Date) = 9 then 'September'\n",
    "           when month(Date) = 10 then 'October'\n",
    "           when month(Date) = 11 then 'November'\n",
    "           when month(Date) = 12 then 'December'\n",
    "       end as month\n",
    "from covidData                   \n",
    "\"\"\"); \n",
    "\n",
    "parse_date_df.show(); "
   ]
  }
 ],
 "metadata": {
  "kernelspec": {
   "display_name": "Python 3 (ipykernel)",
   "language": "python",
   "name": "python3"
  },
  "language_info": {
   "codemirror_mode": {
    "name": "ipython",
    "version": 3
   },
   "file_extension": ".py",
   "mimetype": "text/x-python",
   "name": "python",
   "nbconvert_exporter": "python",
   "pygments_lexer": "ipython3",
   "version": "3.12.4"
  }
 },
 "nbformat": 4,
 "nbformat_minor": 5
}
